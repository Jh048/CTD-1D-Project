{
 "cells": [
  {
   "cell_type": "markdown",
   "metadata": {},
   "source": [
    "For user infterface"
   ]
  },
  {
   "cell_type": "code",
   "execution_count": null,
   "metadata": {},
   "outputs": [],
   "source": [
    "# examples\n",
    "menu = \"\"\"\n",
    "==================================== Menu =====================================\n",
    "Select one of the following:\n",
    "    A) Display the exports to Europe for the period 1998 to 2009\n",
    "    B) The average & the three lowest export values for selected area over a\n",
    "       selected 6-year span\n",
    "    C) Display the years and the export values for a selected area if the\n",
    "       changes in export values are at least 4% over the previous year\n",
    "    D) Line Plots of America, Asia vs Year \n",
    "       Bar Chart of Europe, European Union vs Year\n",
    "    Q) Quit\n",
    "===============================================================================\n",
    "\"\"\""
   ]
  }
 ],
 "metadata": {
  "kernelspec": {
   "display_name": "base",
   "language": "python",
   "name": "python3"
  },
  "language_info": {
   "name": "python",
   "version": "3.12.7"
  }
 },
 "nbformat": 4,
 "nbformat_minor": 2
}
