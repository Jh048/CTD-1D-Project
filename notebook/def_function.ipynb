{
 "cells": [
  {
   "cell_type": "markdown",
   "metadata": {},
   "source": [
    "## test a section of your code here"
   ]
  },
  {
   "cell_type": "markdown",
   "metadata": {},
   "source": []
  },
  {
   "cell_type": "markdown",
   "metadata": {},
   "source": [
    "To do: \n",
    "1. Learn how to keep time in Python\n",
    "2. Work on the logic of the code counting down\n",
    "3. Work on the code Pausing, and Continuing\n",
    "4. Work on the code Starting and Terminating \n",
    "5. Work on the code storing the Time Elapsed and Time Left \n",
    "6. Work on Looping the main logic forever! (with an escape or Terminate button)\n",
    "7. Work on being able to store these times cumulatively under different dictionaries. \n",
    "8. Ability to pull out this \"history/archive\" of work from this dictionaries"
   ]
  },
  {
   "cell_type": "code",
   "execution_count": null,
   "metadata": {},
   "outputs": [],
   "source": [
    "#examples\n",
    "def rmain(): \n",
    "    d.count += 1\n",
    "    print(d.count)\n",
    "    print(\"Invalid selection\")\n",
    "    print(d.menu4)\n",
    "    sel = input(\"Please enter your choice: \")\n",
    "    if sel == \"1\":\n",
    "            return\n",
    "    elif sel == \"2\":\n",
    "            print()\n",
    "            print(\"Goodbye and Thank you for using the system\")\n",
    "            sys.exit()\n",
    "    elif d.count >= d.limit:\n",
    "            d.count = 0\n",
    "            print()\n",
    "            print(\"Exiting the system due to multiple unsuccessful attempts \")\n",
    "            sys.exit()\n",
    "    else:\n",
    "        rmain()"
   ]
  },
  {
   "cell_type": "code",
   "execution_count": null,
   "metadata": {},
   "outputs": [
    {
     "name": "stdout",
     "output_type": "stream",
     "text": [
      "Welcome to Tomoto timer!\n",
      "Hello! jh !\n"
     ]
    }
   ],
   "source": [
    "def start():\n",
    "    print('Welcome to Tomoto timer!')\n",
    "    user_enters = input('What is your name, Tomotoer? ') \n",
    "    print ('Hello!', user_enters, '!')\n",
    "\n",
    "\n",
    "start()"
   ]
  },
  {
   "cell_type": "code",
   "execution_count": null,
   "metadata": {},
   "outputs": [
    {
     "name": "stdout",
     "output_type": "stream",
     "text": [
      "Remaining time: 59:55              "
     ]
    }
   ],
   "source": [
    "#jiahao - done def countdown()\n",
    "import time\n",
    "import sys\n",
    "\n",
    "def countdown(input_time):\n",
    "    try:\n",
    "        hours, minutes, seconds = map(int, input_time.split(\",\"))\n",
    "    except ValueError:\n",
    "        print(\"Invalid format. Please enter time in HH:MM:SS format.\")\n",
    "        return\n",
    "    \n",
    "    total_time = (hours*3600)+(minutes*60)+seconds\n",
    "    for remaining in range(total_time, 0, -1):\n",
    "        seconds = remaining % 60\n",
    "        minutes = (remaining % 3600) //60\n",
    "        hours = (remaining // 3600)\n",
    "        if hours > 0:\n",
    "            time_string = f\"{hours:02}:{minutes:02}:{seconds:02}\"\n",
    "        else:\n",
    "            time_string = f\"{minutes:02}:{seconds:02}              \"\n",
    "        # Use '\\r' to overwrite the line\n",
    "        # sys.stdout.write: Prints the text without adding a newline (\\n).\n",
    "        sys.stdout.write(f\"\\rRemaining time: {time_string}\")\n",
    "        # sys.stdout.write: Prints the text without adding a newline (\\n).\n",
    "        sys.stdout.flush()\n",
    "        # time.sleep: Waits for 1 second between each update.\n",
    "        time.sleep(1)\n",
    "    sys.stdout.write(\"\\rCountdown: Times up!          \\n\")\n",
    "\n",
    "# Run the countdown\n",
    "# un# to try the code\n",
    "user_input = input(\"Enter countdown time (HH,MM,SS): \")\n",
    "#countdown(user_input)"
   ]
  },
  {
   "cell_type": "code",
   "execution_count": null,
   "metadata": {},
   "outputs": [],
   "source": []
  },
  {
   "cell_type": "code",
   "execution_count": null,
   "metadata": {},
   "outputs": [],
   "source": []
  }
 ],
 "metadata": {
  "kernelspec": {
   "display_name": "base",
   "language": "python",
   "name": "python3"
  },
  "language_info": {
   "codemirror_mode": {
    "name": "ipython",
    "version": 3
   },
   "file_extension": ".py",
   "mimetype": "text/x-python",
   "name": "python",
   "nbconvert_exporter": "python",
   "pygments_lexer": "ipython3",
   "version": "3.12.7"
  }
 },
 "nbformat": 4,
 "nbformat_minor": 2
}
